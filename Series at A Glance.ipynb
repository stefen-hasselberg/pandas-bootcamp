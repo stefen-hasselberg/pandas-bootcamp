{
 "cells": [
  {
   "cell_type": "code",
   "execution_count": 13,
   "id": "71b6fe8c",
   "metadata": {},
   "outputs": [],
   "source": [
    "import pandas as pd"
   ]
  },
  {
   "cell_type": "markdown",
   "id": "a003de52",
   "metadata": {},
   "source": [
    "## Lecture 1 - What is a Series"
   ]
  },
  {
   "cell_type": "code",
   "execution_count": 29,
   "id": "1eeb0bee",
   "metadata": {},
   "outputs": [],
   "source": [
    "students = [\"Andrew\",\"Brie\", \"Kanika\"]"
   ]
  },
  {
   "cell_type": "code",
   "execution_count": 30,
   "id": "2c7f9be1",
   "metadata": {},
   "outputs": [
    {
     "data": {
      "text/plain": [
       "list"
      ]
     },
     "execution_count": 30,
     "metadata": {},
     "output_type": "execute_result"
    }
   ],
   "source": [
    "type(students)"
   ]
  },
  {
   "cell_type": "code",
   "execution_count": 31,
   "id": "361f53ff",
   "metadata": {},
   "outputs": [
    {
     "data": {
      "text/plain": [
       "0    Andrew\n",
       "1      Brie\n",
       "2    Kanika\n",
       "dtype: object"
      ]
     },
     "execution_count": 31,
     "metadata": {},
     "output_type": "execute_result"
    }
   ],
   "source": [
    "pd.Series(students)"
   ]
  },
  {
   "cell_type": "code",
   "execution_count": 32,
   "id": "a5732a48",
   "metadata": {},
   "outputs": [],
   "source": [
    "ages = [27,49,37]"
   ]
  },
  {
   "cell_type": "code",
   "execution_count": 33,
   "id": "6eb0da02",
   "metadata": {},
   "outputs": [
    {
     "data": {
      "text/plain": [
       "0    27\n",
       "1    49\n",
       "2    37\n",
       "dtype: int64"
      ]
     },
     "execution_count": 33,
     "metadata": {},
     "output_type": "execute_result"
    }
   ],
   "source": [
    "pd.Series(ages)"
   ]
  },
  {
   "cell_type": "code",
   "execution_count": 34,
   "id": "c728fec8",
   "metadata": {},
   "outputs": [],
   "source": [
    "heights = [164.4,173.2,190.0]"
   ]
  },
  {
   "cell_type": "code",
   "execution_count": 35,
   "id": "128a08fb",
   "metadata": {},
   "outputs": [
    {
     "data": {
      "text/plain": [
       "0    164.4\n",
       "1    173.2\n",
       "2    190.0\n",
       "dtype: float64"
      ]
     },
     "execution_count": 35,
     "metadata": {},
     "output_type": "execute_result"
    }
   ],
   "source": [
    "pd.Series(heights)"
   ]
  },
  {
   "cell_type": "code",
   "execution_count": 36,
   "id": "59b9ea78",
   "metadata": {},
   "outputs": [
    {
     "data": {
      "text/plain": [
       "0                True\n",
       "1                 say\n",
       "2    {'my_mood': 100}\n",
       "dtype: object"
      ]
     },
     "execution_count": 36,
     "metadata": {},
     "output_type": "execute_result"
    }
   ],
   "source": [
    "mixed = [True, \"say\", {\"my_mood\": 100}]\n",
    "pd.Series(mixed)"
   ]
  },
  {
   "cell_type": "code",
   "execution_count": 37,
   "id": "6dc99d0d",
   "metadata": {},
   "outputs": [],
   "source": [
    "books_list = [\"Fooled by Randomness\", \"Sapiens\", \"Lenin on the Train\"]"
   ]
  },
  {
   "cell_type": "code",
   "execution_count": 38,
   "id": "67ff0fbb",
   "metadata": {},
   "outputs": [],
   "source": [
    "list_s = pd.Series(books_list)"
   ]
  },
  {
   "cell_type": "code",
   "execution_count": 39,
   "id": "9bbe7ba3",
   "metadata": {},
   "outputs": [],
   "source": [
    "books_dict = {0:\"Fooled by Randomness\", 1:\"Sapiens\", 2:\"Lenin on the Train\"}"
   ]
  },
  {
   "cell_type": "code",
   "execution_count": 40,
   "id": "3b126f27",
   "metadata": {},
   "outputs": [],
   "source": [
    "dict_s = pd.Series(books_dict)"
   ]
  },
  {
   "cell_type": "code",
   "execution_count": 41,
   "id": "b9080647",
   "metadata": {},
   "outputs": [
    {
     "data": {
      "text/plain": [
       "True"
      ]
     },
     "execution_count": 41,
     "metadata": {},
     "output_type": "execute_result"
    }
   ],
   "source": [
    "list_s.equals(dict_s)"
   ]
  },
  {
   "cell_type": "code",
   "execution_count": 42,
   "id": "7ba6d536",
   "metadata": {},
   "outputs": [
    {
     "data": {
      "text/plain": [
       "0    27.0\n",
       "1    49.0\n",
       "2    37.0\n",
       "dtype: float64"
      ]
     },
     "execution_count": 42,
     "metadata": {},
     "output_type": "execute_result"
    }
   ],
   "source": [
    "pd.Series(ages, dtype=\"float\")"
   ]
  },
  {
   "cell_type": "markdown",
   "id": "c5415911",
   "metadata": {},
   "source": [
    "### Index and RangeIndex"
   ]
  },
  {
   "cell_type": "code",
   "execution_count": 43,
   "id": "2c08c185",
   "metadata": {},
   "outputs": [
    {
     "data": {
      "text/plain": [
       "funny                  Fooled by Randomness\n",
       "serious and amusing                 Sapiens\n",
       "kinda interesting        Lenin on the Train\n",
       "dtype: object"
      ]
     },
     "execution_count": 43,
     "metadata": {},
     "output_type": "execute_result"
    }
   ],
   "source": [
    "pd.Series(data=books_list, index=['funny','serious and amusing','kinda interesting'])"
   ]
  },
  {
   "cell_type": "code",
   "execution_count": 44,
   "id": "a6c711f3",
   "metadata": {},
   "outputs": [
    {
     "data": {
      "text/plain": [
       "pandas.core.indexes.range.RangeIndex"
      ]
     },
     "execution_count": 44,
     "metadata": {},
     "output_type": "execute_result"
    }
   ],
   "source": [
    "type(list_s.index)"
   ]
  },
  {
   "cell_type": "code",
   "execution_count": 45,
   "id": "5bd07a5b",
   "metadata": {},
   "outputs": [
    {
     "data": {
      "text/plain": [
       "RangeIndex(start=0, stop=3, step=1)"
      ]
     },
     "execution_count": 45,
     "metadata": {},
     "output_type": "execute_result"
    }
   ],
   "source": [
    "list_s.index"
   ]
  },
  {
   "cell_type": "code",
   "execution_count": 46,
   "id": "67e9286b",
   "metadata": {},
   "outputs": [
    {
     "data": {
      "text/plain": [
       "[4, 5, 6]"
      ]
     },
     "execution_count": 46,
     "metadata": {},
     "output_type": "execute_result"
    }
   ],
   "source": [
    "list(pd.RangeIndex(start=4, stop=7, step=1))"
   ]
  },
  {
   "cell_type": "code",
   "execution_count": 47,
   "id": "53cbe6fb",
   "metadata": {},
   "outputs": [
    {
     "ename": "NameError",
     "evalue": "name 'books_series' is not defined",
     "output_type": "error",
     "traceback": [
      "\u001b[1;31m---------------------------------------------------------------------------\u001b[0m",
      "\u001b[1;31mNameError\u001b[0m                                 Traceback (most recent call last)",
      "Cell \u001b[1;32mIn [47], line 1\u001b[0m\n\u001b[1;32m----> 1\u001b[0m \u001b[43mbooks_series\u001b[49m\u001b[38;5;241m.\u001b[39mname\n",
      "\u001b[1;31mNameError\u001b[0m: name 'books_series' is not defined"
     ]
    }
   ],
   "source": [
    "books_series.name"
   ]
  },
  {
   "cell_type": "code",
   "execution_count": 48,
   "id": "75a1ba7b",
   "metadata": {},
   "outputs": [],
   "source": [
    "books_series = list_s"
   ]
  },
  {
   "cell_type": "code",
   "execution_count": 51,
   "id": "0c059e7e",
   "metadata": {},
   "outputs": [],
   "source": [
    "books_series.name = \"my favourite books\""
   ]
  },
  {
   "cell_type": "code",
   "execution_count": 52,
   "id": "9210e3e8",
   "metadata": {},
   "outputs": [
    {
     "data": {
      "text/plain": [
       "0    Fooled by Randomness\n",
       "1                 Sapiens\n",
       "2      Lenin on the Train\n",
       "Name: my favourite books, dtype: object"
      ]
     },
     "execution_count": 52,
     "metadata": {},
     "output_type": "execute_result"
    }
   ],
   "source": [
    "books_series"
   ]
  },
  {
   "cell_type": "code",
   "execution_count": 55,
   "id": "21759502",
   "metadata": {},
   "outputs": [],
   "source": [
    "books_series.index.name = \"My Books\""
   ]
  },
  {
   "cell_type": "code",
   "execution_count": 57,
   "id": "a887ee09",
   "metadata": {},
   "outputs": [
    {
     "data": {
      "text/plain": [
       "My Books\n",
       "0    Fooled by Randomness\n",
       "1                 Sapiens\n",
       "2      Lenin on the Train\n",
       "Name: my favourite books, dtype: object"
      ]
     },
     "execution_count": 57,
     "metadata": {},
     "output_type": "execute_result"
    }
   ],
   "source": [
    "books_series"
   ]
  },
  {
   "cell_type": "code",
   "execution_count": null,
   "id": "5267db1e",
   "metadata": {},
   "outputs": [],
   "source": []
  }
 ],
 "metadata": {
  "kernelspec": {
   "display_name": "Python 3 (ipykernel)",
   "language": "python",
   "name": "python3"
  },
  "language_info": {
   "codemirror_mode": {
    "name": "ipython",
    "version": 3
   },
   "file_extension": ".py",
   "mimetype": "text/x-python",
   "name": "python",
   "nbconvert_exporter": "python",
   "pygments_lexer": "ipython3",
   "version": "3.10.8"
  }
 },
 "nbformat": 4,
 "nbformat_minor": 5
}
