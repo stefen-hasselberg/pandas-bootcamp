{
 "cells": [
  {
   "cell_type": "code",
   "execution_count": null,
   "id": "71b6fe8c",
   "metadata": {},
   "outputs": [],
   "source": [
    "import pandas as pd"
   ]
  },
  {
   "cell_type": "markdown",
   "id": "a003de52",
   "metadata": {},
   "source": [
    "## Lecture 1 - What is a Series"
   ]
  },
  {
   "cell_type": "code",
   "execution_count": null,
   "id": "1eeb0bee",
   "metadata": {},
   "outputs": [],
   "source": [
    "students = [\"Andrew\",\"Brie\", \"Kanika\"]"
   ]
  },
  {
   "cell_type": "code",
   "execution_count": null,
   "id": "2c7f9be1",
   "metadata": {},
   "outputs": [],
   "source": [
    "type(students)"
   ]
  },
  {
   "cell_type": "code",
   "execution_count": null,
   "id": "361f53ff",
   "metadata": {},
   "outputs": [],
   "source": [
    "pd.Series(students)"
   ]
  },
  {
   "cell_type": "code",
   "execution_count": null,
   "id": "a5732a48",
   "metadata": {},
   "outputs": [],
   "source": [
    "ages = [27,49,37]"
   ]
  },
  {
   "cell_type": "code",
   "execution_count": null,
   "id": "6eb0da02",
   "metadata": {},
   "outputs": [],
   "source": [
    "pd.Series(ages)"
   ]
  },
  {
   "cell_type": "code",
   "execution_count": null,
   "id": "c728fec8",
   "metadata": {},
   "outputs": [],
   "source": [
    "heights = [164.4,173.2,190.0]"
   ]
  },
  {
   "cell_type": "code",
   "execution_count": null,
   "id": "128a08fb",
   "metadata": {},
   "outputs": [],
   "source": [
    "pd.Series(heights)"
   ]
  },
  {
   "cell_type": "code",
   "execution_count": null,
   "id": "59b9ea78",
   "metadata": {},
   "outputs": [],
   "source": [
    "mixed = [True, \"say\", {\"my_mood\": 100}]\n",
    "pd.Series(mixed)"
   ]
  },
  {
   "cell_type": "code",
   "execution_count": null,
   "id": "6dc99d0d",
   "metadata": {},
   "outputs": [],
   "source": [
    "books_list = [\"Fooled by Randomness\", \"Sapiens\", \"Lenin on the Train\"]"
   ]
  },
  {
   "cell_type": "code",
   "execution_count": null,
   "id": "67ff0fbb",
   "metadata": {},
   "outputs": [],
   "source": [
    "list_s = pd.Series(books_list)"
   ]
  },
  {
   "cell_type": "code",
   "execution_count": null,
   "id": "9bbe7ba3",
   "metadata": {},
   "outputs": [],
   "source": [
    "books_dict = {0:\"Fooled by Randomness\", 1:\"Sapiens\", 2:\"Lenin on the Train\"}"
   ]
  },
  {
   "cell_type": "code",
   "execution_count": null,
   "id": "3b126f27",
   "metadata": {},
   "outputs": [],
   "source": [
    "dict_s = pd.Series(books_dict)"
   ]
  },
  {
   "cell_type": "code",
   "execution_count": null,
   "id": "b9080647",
   "metadata": {},
   "outputs": [],
   "source": [
    "list_s.equals(dict_s)"
   ]
  },
  {
   "cell_type": "code",
   "execution_count": null,
   "id": "7ba6d536",
   "metadata": {},
   "outputs": [],
   "source": [
    "pd.Series(ages, dtype=\"float\")"
   ]
  },
  {
   "cell_type": "markdown",
   "id": "c5415911",
   "metadata": {},
   "source": [
    "### Index and RangeIndex"
   ]
  },
  {
   "cell_type": "code",
   "execution_count": null,
   "id": "2c08c185",
   "metadata": {},
   "outputs": [],
   "source": [
    "pd.Series(data=books_list, index=['funny','serious and amusing','kinda interesting'])"
   ]
  },
  {
   "cell_type": "code",
   "execution_count": null,
   "id": "a6c711f3",
   "metadata": {},
   "outputs": [],
   "source": [
    "type(list_s.index)"
   ]
  },
  {
   "cell_type": "code",
   "execution_count": null,
   "id": "5bd07a5b",
   "metadata": {},
   "outputs": [],
   "source": [
    "list_s.index"
   ]
  },
  {
   "cell_type": "code",
   "execution_count": null,
   "id": "67e9286b",
   "metadata": {},
   "outputs": [],
   "source": [
    "list(pd.RangeIndex(start=4, stop=7, step=1))"
   ]
  },
  {
   "cell_type": "code",
   "execution_count": null,
   "id": "53cbe6fb",
   "metadata": {},
   "outputs": [],
   "source": [
    "books_series.name"
   ]
  },
  {
   "cell_type": "code",
   "execution_count": null,
   "id": "75a1ba7b",
   "metadata": {},
   "outputs": [],
   "source": [
    "books_series = list_s"
   ]
  },
  {
   "cell_type": "code",
   "execution_count": null,
   "id": "0c059e7e",
   "metadata": {},
   "outputs": [],
   "source": [
    "books_series.name = \"my favourite books\""
   ]
  },
  {
   "cell_type": "code",
   "execution_count": null,
   "id": "9210e3e8",
   "metadata": {},
   "outputs": [],
   "source": [
    "books_series"
   ]
  },
  {
   "cell_type": "code",
   "execution_count": null,
   "id": "21759502",
   "metadata": {},
   "outputs": [],
   "source": [
    "books_series.index.name = \"My Books\""
   ]
  },
  {
   "cell_type": "code",
   "execution_count": null,
   "id": "a887ee09",
   "metadata": {},
   "outputs": [],
   "source": [
    "books_series"
   ]
  },
  {
   "cell_type": "code",
   "execution_count": null,
   "id": "25ca3c81",
   "metadata": {},
   "outputs": [],
   "source": [
    "int_series = pd.Series([i for i in range(60)])"
   ]
  },
  {
   "cell_type": "code",
   "execution_count": null,
   "id": "83467746",
   "metadata": {},
   "outputs": [],
   "source": [
    "int_series\n"
   ]
  },
  {
   "cell_type": "code",
   "execution_count": null,
   "id": "ae12ffe4",
   "metadata": {},
   "outputs": [],
   "source": [
    "int_series.size"
   ]
  },
  {
   "cell_type": "code",
   "execution_count": null,
   "id": "eddb0a73",
   "metadata": {},
   "outputs": [],
   "source": [
    "int_series.head()\n"
   ]
  },
  {
   "cell_type": "code",
   "execution_count": null,
   "id": "346bea24",
   "metadata": {},
   "outputs": [],
   "source": [
    "int_series.tail()"
   ]
  },
  {
   "cell_type": "code",
   "execution_count": null,
   "id": "bc7d14cc",
   "metadata": {},
   "outputs": [],
   "source": [
    "int_series.head(3)"
   ]
  },
  {
   "cell_type": "code",
   "execution_count": null,
   "id": "72a8420f",
   "metadata": {},
   "outputs": [],
   "source": [
    "int_series.tail(7)"
   ]
  },
  {
   "cell_type": "code",
   "execution_count": null,
   "id": "59c413d1",
   "metadata": {},
   "outputs": [],
   "source": [
    "from string import ascii_lowercase"
   ]
  },
  {
   "cell_type": "code",
   "execution_count": null,
   "id": "9243bbda",
   "metadata": {},
   "outputs": [],
   "source": [
    "ascii_lowercase\n"
   ]
  },
  {
   "cell_type": "code",
   "execution_count": null,
   "id": "9ff2f775",
   "metadata": {},
   "outputs": [],
   "source": [
    "letters = list(ascii_lowercase)\n",
    "alphabet = pd.Series(letters)"
   ]
  },
  {
   "cell_type": "code",
   "execution_count": null,
   "id": "5b89f1f2",
   "metadata": {},
   "outputs": [],
   "source": [
    "alphabet.head(5)"
   ]
  },
  {
   "cell_type": "code",
   "execution_count": null,
   "id": "0d3afe8b",
   "metadata": {},
   "outputs": [],
   "source": [
    "alphabet[0]"
   ]
  },
  {
   "cell_type": "code",
   "execution_count": null,
   "id": "2b499537",
   "metadata": {},
   "outputs": [],
   "source": [
    "# 11th letter"
   ]
  },
  {
   "cell_type": "code",
   "execution_count": null,
   "id": "f28c43c3",
   "metadata": {},
   "outputs": [],
   "source": [
    "alphabet[10]"
   ]
  },
  {
   "cell_type": "code",
   "execution_count": null,
   "id": "15d4ec26",
   "metadata": {},
   "outputs": [],
   "source": [
    "# what are the first 3 letters\n",
    "alphabet[:3]"
   ]
  },
  {
   "cell_type": "code",
   "execution_count": null,
   "id": "6664ef2b",
   "metadata": {},
   "outputs": [],
   "source": [
    "#what are the sixth through to tenth letters\n",
    "alphabet[5:10]"
   ]
  },
  {
   "cell_type": "code",
   "execution_count": null,
   "id": "b67cf679",
   "metadata": {},
   "outputs": [],
   "source": [
    "# last 6 letters - got back 6 letter from the end until the end\n",
    "alphabet[-6:]"
   ]
  },
  {
   "cell_type": "code",
   "execution_count": null,
   "id": "26c84b70",
   "metadata": {},
   "outputs": [],
   "source": [
    "from string import ascii_uppercase"
   ]
  },
  {
   "cell_type": "code",
   "execution_count": null,
   "id": "4446ad7a",
   "metadata": {},
   "outputs": [],
   "source": [
    "ascii_uppercase"
   ]
  },
  {
   "cell_type": "code",
   "execution_count": 81,
   "id": "e2fb705d",
   "metadata": {},
   "outputs": [],
   "source": [
    "# labeled_alphabet = pd.Series(data=list(ascii_lowercase), index=map(lambda x: 'label_' + x, list(ascii_uppercase)))\n",
    "labeled_alphabet = pd.Series(data=list(ascii_lowercase), index=list(ascii_uppercase))\n",
    "labeled_alphabet = labeled_alphabet.add_prefix('label_')"
   ]
  },
  {
   "cell_type": "code",
   "execution_count": 77,
   "id": "4b4e261a",
   "metadata": {},
   "outputs": [
    {
     "data": {
      "text/plain": [
       "A    a\n",
       "B    b\n",
       "C    c\n",
       "D    d\n",
       "dtype: object"
      ]
     },
     "execution_count": 77,
     "metadata": {},
     "output_type": "execute_result"
    }
   ],
   "source": [
    "labeled_alphabet.head(4)"
   ]
  },
  {
   "cell_type": "code",
   "execution_count": 82,
   "id": "09f749bd",
   "metadata": {},
   "outputs": [
    {
     "data": {
      "text/plain": [
       "'a'"
      ]
     },
     "execution_count": 82,
     "metadata": {},
     "output_type": "execute_result"
    }
   ],
   "source": [
    "labeled_alphabet['label_A']"
   ]
  },
  {
   "cell_type": "code",
   "execution_count": 83,
   "id": "239b3e7e",
   "metadata": {},
   "outputs": [
    {
     "data": {
      "text/plain": [
       "'k'"
      ]
     },
     "execution_count": 83,
     "metadata": {},
     "output_type": "execute_result"
    }
   ],
   "source": [
    "labeled_alphabet['label_K']"
   ]
  },
  {
   "cell_type": "code",
   "execution_count": 84,
   "id": "8c566351",
   "metadata": {},
   "outputs": [
    {
     "data": {
      "text/plain": [
       "label_A    a\n",
       "label_B    b\n",
       "label_C    c\n",
       "dtype: object"
      ]
     },
     "execution_count": 84,
     "metadata": {},
     "output_type": "execute_result"
    }
   ],
   "source": [
    "labeled_alphabet[:'label_C']"
   ]
  },
  {
   "cell_type": "code",
   "execution_count": 85,
   "id": "de0794f3",
   "metadata": {},
   "outputs": [
    {
     "data": {
      "text/plain": [
       "label_F    f\n",
       "label_G    g\n",
       "label_H    h\n",
       "label_I    i\n",
       "label_J    j\n",
       "dtype: object"
      ]
     },
     "execution_count": 85,
     "metadata": {},
     "output_type": "execute_result"
    }
   ],
   "source": [
    "labeled_alphabet['label_F': 'label_J']"
   ]
  },
  {
   "cell_type": "code",
   "execution_count": 86,
   "id": "19215689",
   "metadata": {},
   "outputs": [
    {
     "data": {
      "text/plain": [
       "label_U    u\n",
       "label_V    v\n",
       "label_W    w\n",
       "label_X    x\n",
       "label_Y    y\n",
       "label_Z    z\n",
       "dtype: object"
      ]
     },
     "execution_count": 86,
     "metadata": {},
     "output_type": "execute_result"
    }
   ],
   "source": [
    "labeled_alphabet[\"label_U\":]"
   ]
  },
  {
   "cell_type": "markdown",
   "id": "d5ecb84c",
   "metadata": {},
   "source": [
    "###  Using Dot Notation"
   ]
  },
  {
   "cell_type": "code",
   "execution_count": 87,
   "id": "61043fb8",
   "metadata": {},
   "outputs": [
    {
     "data": {
      "text/plain": [
       "'v'"
      ]
     },
     "execution_count": 87,
     "metadata": {},
     "output_type": "execute_result"
    }
   ],
   "source": [
    "labeled_alphabet['label_V']"
   ]
  },
  {
   "cell_type": "code",
   "execution_count": 88,
   "id": "f59e8624",
   "metadata": {},
   "outputs": [
    {
     "data": {
      "text/plain": [
       "'v'"
      ]
     },
     "execution_count": 88,
     "metadata": {},
     "output_type": "execute_result"
    }
   ],
   "source": [
    "labeled_alphabet.label_V"
   ]
  },
  {
   "cell_type": "markdown",
   "id": "b57ab2f2",
   "metadata": {},
   "source": [
    "### Boolean Masks and the .loc Indexer"
   ]
  },
  {
   "cell_type": "code",
   "execution_count": 89,
   "id": "aef32353",
   "metadata": {},
   "outputs": [
    {
     "data": {
      "text/plain": [
       "label_F    f\n",
       "label_G    g\n",
       "label_H    h\n",
       "label_I    i\n",
       "label_J    j\n",
       "dtype: object"
      ]
     },
     "execution_count": 89,
     "metadata": {},
     "output_type": "execute_result"
    }
   ],
   "source": [
    "labeled_alphabet.loc[\"label_F\": \"label_J\"]"
   ]
  },
  {
   "cell_type": "code",
   "execution_count": 90,
   "id": "9c18737e",
   "metadata": {},
   "outputs": [
    {
     "data": {
      "text/plain": [
       "My Books\n",
       "0    Fooled by Randomness\n",
       "1                 Sapiens\n",
       "2      Lenin on the Train\n",
       "Name: my favourite books, dtype: object"
      ]
     },
     "execution_count": 90,
     "metadata": {},
     "output_type": "execute_result"
    }
   ],
   "source": [
    "books_series"
   ]
  },
  {
   "cell_type": "code",
   "execution_count": 92,
   "id": "34badee3",
   "metadata": {},
   "outputs": [
    {
     "data": {
      "text/plain": [
       "My Books\n",
       "0    Fooled by Randomness\n",
       "1                 Sapiens\n",
       "2      Lenin on the Train\n",
       "Name: my favourite books, dtype: object"
      ]
     },
     "execution_count": 92,
     "metadata": {},
     "output_type": "execute_result"
    }
   ],
   "source": [
    "books_series.loc[[True, True, True]]"
   ]
  },
  {
   "cell_type": "code",
   "execution_count": 94,
   "id": "357accba",
   "metadata": {},
   "outputs": [
    {
     "data": {
      "text/plain": [
       "My Books\n",
       "0    Fooled by Randomness\n",
       "2      Lenin on the Train\n",
       "Name: my favourite books, dtype: object"
      ]
     },
     "execution_count": 94,
     "metadata": {},
     "output_type": "execute_result"
    }
   ],
   "source": [
    "books_series.loc[[True, False , True]]"
   ]
  },
  {
   "cell_type": "code",
   "execution_count": 95,
   "id": "bbdbfb7c",
   "metadata": {},
   "outputs": [
    {
     "data": {
      "text/plain": [
       "26"
      ]
     },
     "execution_count": 95,
     "metadata": {},
     "output_type": "execute_result"
    }
   ],
   "source": [
    "labeled_alphabet.size"
   ]
  },
  {
   "cell_type": "code",
   "execution_count": 98,
   "id": "a3e75b6b",
   "metadata": {},
   "outputs": [
    {
     "data": {
      "text/plain": [
       "label_A    a\n",
       "label_B    b\n",
       "label_C    c\n",
       "label_D    d\n",
       "label_E    e\n",
       "label_F    f\n",
       "label_G    g\n",
       "label_H    h\n",
       "label_I    i\n",
       "label_J    j\n",
       "label_K    k\n",
       "label_L    l\n",
       "label_M    m\n",
       "label_N    n\n",
       "label_O    o\n",
       "label_P    p\n",
       "label_Q    q\n",
       "label_R    r\n",
       "label_S    s\n",
       "label_T    t\n",
       "label_U    u\n",
       "label_V    v\n",
       "label_W    w\n",
       "label_X    x\n",
       "label_Y    y\n",
       "label_Z    z\n",
       "dtype: object"
      ]
     },
     "execution_count": 98,
     "metadata": {},
     "output_type": "execute_result"
    }
   ],
   "source": [
    "labeled_alphabet.loc[ [True for i in range(26)] ]"
   ]
  },
  {
   "cell_type": "code",
   "execution_count": 102,
   "id": "6ead0727",
   "metadata": {},
   "outputs": [
    {
     "data": {
      "text/plain": [
       "label_A    a\n",
       "label_C    c\n",
       "label_E    e\n",
       "label_G    g\n",
       "label_I    i\n",
       "label_K    k\n",
       "label_M    m\n",
       "label_O    o\n",
       "label_Q    q\n",
       "label_S    s\n",
       "label_U    u\n",
       "label_W    w\n",
       "label_Y    y\n",
       "dtype: object"
      ]
     },
     "execution_count": 102,
     "metadata": {},
     "output_type": "execute_result"
    }
   ],
   "source": [
    "labeled_alphabet.loc[ [True if i%2 == 0 else False for i in range(26)] ]"
   ]
  },
  {
   "cell_type": "markdown",
   "id": "1cd4c23d",
   "metadata": {},
   "source": [
    "### Extracting by Position with .iLoc\n",
    "\n",
    "iloc => interger loc => indexing by position \\\n",
    "loc => location => indexing by label"
   ]
  },
  {
   "cell_type": "code",
   "execution_count": 103,
   "id": "a9025f7a",
   "metadata": {},
   "outputs": [
    {
     "data": {
      "text/plain": [
       "'a'"
      ]
     },
     "execution_count": 103,
     "metadata": {},
     "output_type": "execute_result"
    }
   ],
   "source": [
    "labeled_alphabet.iloc[0]"
   ]
  },
  {
   "cell_type": "code",
   "execution_count": 105,
   "id": "30a65e7b",
   "metadata": {},
   "outputs": [
    {
     "data": {
      "text/plain": [
       "'b'"
      ]
     },
     "execution_count": 105,
     "metadata": {},
     "output_type": "execute_result"
    }
   ],
   "source": [
    "labeled_alphabet.iloc[1]"
   ]
  },
  {
   "cell_type": "code",
   "execution_count": 106,
   "id": "06c0132f",
   "metadata": {},
   "outputs": [
    {
     "data": {
      "text/plain": [
       "label_B    b\n",
       "label_C    c\n",
       "dtype: object"
      ]
     },
     "execution_count": 106,
     "metadata": {},
     "output_type": "execute_result"
    }
   ],
   "source": [
    "labeled_alphabet.iloc[1:3]"
   ]
  },
  {
   "cell_type": "code",
   "execution_count": 107,
   "id": "85ba4db7",
   "metadata": {},
   "outputs": [
    {
     "data": {
      "text/plain": [
       "label_B    b\n",
       "label_E    e\n",
       "label_J    j\n",
       "dtype: object"
      ]
     },
     "execution_count": 107,
     "metadata": {},
     "output_type": "execute_result"
    }
   ],
   "source": [
    "labeled_alphabet.iloc[[1,4,9]]"
   ]
  },
  {
   "cell_type": "code",
   "execution_count": 108,
   "id": "2d89d4b5",
   "metadata": {},
   "outputs": [
    {
     "data": {
      "text/plain": [
       "label_C    c\n",
       "label_F    f\n",
       "label_I    i\n",
       "label_L    l\n",
       "label_O    o\n",
       "label_R    r\n",
       "dtype: object"
      ]
     },
     "execution_count": 108,
     "metadata": {},
     "output_type": "execute_result"
    }
   ],
   "source": [
    "labeled_alphabet.iloc[2:20:3]"
   ]
  },
  {
   "cell_type": "markdown",
   "id": "689ba04f",
   "metadata": {},
   "source": [
    "### Using Callables with .Ioc and .iloc"
   ]
  },
  {
   "cell_type": "code",
   "execution_count": 111,
   "id": "3ae005dd",
   "metadata": {},
   "outputs": [
    {
     "data": {
      "text/plain": [
       "'v'"
      ]
     },
     "execution_count": 111,
     "metadata": {},
     "output_type": "execute_result"
    }
   ],
   "source": [
    "labeled_alphabet.loc['label_V']"
   ]
  },
  {
   "cell_type": "code",
   "execution_count": 113,
   "id": "c7c41e42",
   "metadata": {},
   "outputs": [
    {
     "data": {
      "text/plain": [
       "'v'"
      ]
     },
     "execution_count": 113,
     "metadata": {},
     "output_type": "execute_result"
    }
   ],
   "source": [
    "# x is the Series\n",
    "labeled_alphabet.loc[lambda x: 'label_V']"
   ]
  },
  {
   "cell_type": "code",
   "execution_count": 116,
   "id": "3d8e9d4e",
   "metadata": {},
   "outputs": [
    {
     "data": {
      "text/plain": [
       "label_V    v\n",
       "label_A    a\n",
       "dtype: object"
      ]
     },
     "execution_count": 116,
     "metadata": {},
     "output_type": "execute_result"
    }
   ],
   "source": [
    "# x is the Series\n",
    "labeled_alphabet.loc[lambda x: ['label_V', 'label_A']]"
   ]
  },
  {
   "cell_type": "code",
   "execution_count": 117,
   "id": "3089c196",
   "metadata": {},
   "outputs": [
    {
     "data": {
      "text/plain": [
       "label_A    a\n",
       "label_B    b\n",
       "label_C    c\n",
       "label_D    d\n",
       "label_E    e\n",
       "label_F    f\n",
       "label_G    g\n",
       "label_H    h\n",
       "label_I    i\n",
       "label_J    j\n",
       "label_K    k\n",
       "label_L    l\n",
       "label_M    m\n",
       "label_N    n\n",
       "label_O    o\n",
       "label_P    p\n",
       "label_Q    q\n",
       "label_R    r\n",
       "label_S    s\n",
       "label_T    t\n",
       "label_U    u\n",
       "label_V    v\n",
       "label_W    w\n",
       "label_X    x\n",
       "label_Y    y\n",
       "label_Z    z\n",
       "dtype: object"
      ]
     },
     "execution_count": 117,
     "metadata": {},
     "output_type": "execute_result"
    }
   ],
   "source": [
    "# x is the Series\n",
    "labeled_alphabet.loc[lambda x: [True for i in range(x.size)]]"
   ]
  },
  {
   "cell_type": "code",
   "execution_count": 122,
   "id": "4d2761d3",
   "metadata": {},
   "outputs": [
    {
     "data": {
      "text/plain": [
       "label_A    a\n",
       "label_D    d\n",
       "label_G    g\n",
       "label_J    j\n",
       "label_M    m\n",
       "label_P    p\n",
       "label_S    s\n",
       "label_V    v\n",
       "label_Y    y\n",
       "dtype: object"
      ]
     },
     "execution_count": 122,
     "metadata": {},
     "output_type": "execute_result"
    }
   ],
   "source": [
    "# x is the Series\n",
    "labeled_alphabet.loc[lambda x: [True if i%3 == 0 else False for i in range(x.size)]]"
   ]
  },
  {
   "cell_type": "code",
   "execution_count": 125,
   "id": "776e48a3",
   "metadata": {},
   "outputs": [
    {
     "data": {
      "text/plain": [
       "label_E    e\n",
       "label_J    j\n",
       "label_O    o\n",
       "label_T    t\n",
       "label_Y    y\n",
       "dtype: object"
      ]
     },
     "execution_count": 125,
     "metadata": {},
     "output_type": "execute_result"
    }
   ],
   "source": [
    "def every_fifth(x):\n",
    "    return [True if (i + 1) %5 == 0 else False for i in range(x.size) ]\n",
    "\n",
    "labeled_alphabet.loc[every_fifth]"
   ]
  },
  {
   "cell_type": "markdown",
   "id": "c73b3826",
   "metadata": {},
   "source": [
    "###  Selecting with .get()"
   ]
  },
  {
   "cell_type": "code",
   "execution_count": 126,
   "id": "802ebb86",
   "metadata": {},
   "outputs": [
    {
     "data": {
      "text/plain": [
       "'i'"
      ]
     },
     "execution_count": 126,
     "metadata": {},
     "output_type": "execute_result"
    }
   ],
   "source": [
    "labeled_alphabet.get('label_I')"
   ]
  },
  {
   "cell_type": "code",
   "execution_count": 129,
   "id": "0124ab43",
   "metadata": {},
   "outputs": [
    {
     "data": {
      "text/plain": [
       "'Could not find label'"
      ]
     },
     "execution_count": 129,
     "metadata": {},
     "output_type": "execute_result"
    }
   ],
   "source": [
    "labeled_alphabet.get('Label_A', default=\"Could not find label\")"
   ]
  },
  {
   "cell_type": "code",
   "execution_count": 130,
   "id": "2b8eed10",
   "metadata": {},
   "outputs": [
    {
     "data": {
      "text/plain": [
       "'i'"
      ]
     },
     "execution_count": 130,
     "metadata": {},
     "output_type": "execute_result"
    }
   ],
   "source": [
    "labeled_alphabet.get(8)"
   ]
  },
  {
   "cell_type": "code",
   "execution_count": null,
   "id": "dbde753e",
   "metadata": {},
   "outputs": [],
   "source": []
  }
 ],
 "metadata": {
  "kernelspec": {
   "display_name": "Python 3 (ipykernel)",
   "language": "python",
   "name": "python3"
  },
  "language_info": {
   "codemirror_mode": {
    "name": "ipython",
    "version": 3
   },
   "file_extension": ".py",
   "mimetype": "text/x-python",
   "name": "python",
   "nbconvert_exporter": "python",
   "pygments_lexer": "ipython3",
   "version": "3.10.8"
  }
 },
 "nbformat": 4,
 "nbformat_minor": 5
}
