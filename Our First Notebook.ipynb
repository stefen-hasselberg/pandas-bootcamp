{
 "cells": [
  {
   "cell_type": "code",
   "execution_count": 11,
   "id": "017f44a0",
   "metadata": {},
   "outputs": [],
   "source": [
    "import pandas as pd\n",
    "import numpy as np"
   ]
  },
  {
   "cell_type": "markdown",
   "id": "91c9d9a5",
   "metadata": {},
   "source": [
    "### Numpy"
   ]
  },
  {
   "cell_type": "code",
   "execution_count": 19,
   "id": "32363e26",
   "metadata": {},
   "outputs": [],
   "source": [
    "a_py = list(range(10, 100, 10))"
   ]
  },
  {
   "cell_type": "code",
   "execution_count": 20,
   "id": "d5914bcb",
   "metadata": {},
   "outputs": [
    {
     "data": {
      "text/plain": [
       "[10, 20, 30, 40, 50, 60, 70, 80, 90]"
      ]
     },
     "execution_count": 20,
     "metadata": {},
     "output_type": "execute_result"
    }
   ],
   "source": [
    "a_py"
   ]
  },
  {
   "cell_type": "code",
   "execution_count": 22,
   "id": "f7bea724",
   "metadata": {},
   "outputs": [
    {
     "data": {
      "text/plain": [
       "list"
      ]
     },
     "execution_count": 22,
     "metadata": {},
     "output_type": "execute_result"
    }
   ],
   "source": [
    "type(a_py)"
   ]
  },
  {
   "cell_type": "code",
   "execution_count": 23,
   "id": "b74c8a42",
   "metadata": {},
   "outputs": [],
   "source": [
    "b_np = np.array(a_py)"
   ]
  },
  {
   "cell_type": "code",
   "execution_count": 25,
   "id": "8b30d069",
   "metadata": {},
   "outputs": [
    {
     "data": {
      "text/plain": [
       "numpy.ndarray"
      ]
     },
     "execution_count": 25,
     "metadata": {},
     "output_type": "execute_result"
    }
   ],
   "source": [
    "type(b_np)"
   ]
  },
  {
   "cell_type": "code",
   "execution_count": 28,
   "id": "2e139abd",
   "metadata": {},
   "outputs": [
    {
     "data": {
      "text/plain": [
       "array([10, 20, 30, 40, 50, 60, 70, 80, 90])"
      ]
     },
     "execution_count": 28,
     "metadata": {},
     "output_type": "execute_result"
    }
   ],
   "source": [
    "b_np"
   ]
  },
  {
   "cell_type": "markdown",
   "id": "090400a1",
   "metadata": {},
   "source": [
    "Q: multiply all the nubers by 10"
   ]
  },
  {
   "cell_type": "code",
   "execution_count": 27,
   "id": "03d646c3",
   "metadata": {},
   "outputs": [
    {
     "data": {
      "text/plain": [
       "[100, 200, 300, 400, 500, 600, 700, 800, 900]"
      ]
     },
     "execution_count": 27,
     "metadata": {},
     "output_type": "execute_result"
    }
   ],
   "source": [
    "arr = []\n",
    "for i in a_py:\n",
    "    arr.append(i * 10)\n",
    "\n",
    "arr"
   ]
  },
  {
   "cell_type": "code",
   "execution_count": 29,
   "id": "17608d08",
   "metadata": {},
   "outputs": [
    {
     "data": {
      "text/plain": [
       "[100, 200, 300, 400, 500, 600, 700, 800, 900]"
      ]
     },
     "execution_count": 29,
     "metadata": {},
     "output_type": "execute_result"
    }
   ],
   "source": [
    "[i * 10 for i in a_py]"
   ]
  },
  {
   "cell_type": "code",
   "execution_count": 30,
   "id": "74b9f992",
   "metadata": {},
   "outputs": [
    {
     "data": {
      "text/plain": [
       "array([100, 200, 300, 400, 500, 600, 700, 800, 900])"
      ]
     },
     "execution_count": 30,
     "metadata": {},
     "output_type": "execute_result"
    }
   ],
   "source": [
    "b_np * 10"
   ]
  },
  {
   "cell_type": "markdown",
   "id": "c858b30b",
   "metadata": {},
   "source": [
    " Numnpy array offer better performance than python array\n",
    " the data is stored in one contionus block rather than fragmented\n",
    " but the trade off is that numpy arrays must only contain one type of data"
   ]
  },
  {
   "cell_type": "code",
   "execution_count": null,
   "id": "07118d1c",
   "metadata": {},
   "outputs": [],
   "source": []
  }
 ],
 "metadata": {
  "kernelspec": {
   "display_name": "Python 3 (ipykernel)",
   "language": "python",
   "name": "python3"
  },
  "language_info": {
   "codemirror_mode": {
    "name": "ipython",
    "version": 3
   },
   "file_extension": ".py",
   "mimetype": "text/x-python",
   "name": "python",
   "nbconvert_exporter": "python",
   "pygments_lexer": "ipython3",
   "version": "3.10.8"
  }
 },
 "nbformat": 4,
 "nbformat_minor": 5
}
