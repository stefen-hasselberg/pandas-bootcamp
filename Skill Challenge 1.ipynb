{
 "cells": [
  {
   "cell_type": "code",
   "execution_count": 6,
   "id": "8a4016b5",
   "metadata": {},
   "outputs": [],
   "source": [
    "import pandas as pd\n",
    "import numpy as np"
   ]
  },
  {
   "cell_type": "code",
   "execution_count": 1,
   "id": "dcb56eaf",
   "metadata": {},
   "outputs": [],
   "source": [
    "actor_names = [\"Tom Cruise\", \"Chris Hemsworth\", \"Chris Pine\", \"Chris Pratt\"]"
   ]
  },
  {
   "cell_type": "code",
   "execution_count": 2,
   "id": "e8cfc585",
   "metadata": {},
   "outputs": [],
   "source": [
    "actor_ages = [60, 39, 42, 43]"
   ]
  },
  {
   "cell_type": "code",
   "execution_count": 15,
   "id": "68dbff56",
   "metadata": {},
   "outputs": [],
   "source": [
    "actors = pd.Series(data=actor_ages, index=actor_names, name=\"actors\")"
   ]
  },
  {
   "cell_type": "code",
   "execution_count": 16,
   "id": "837ae613",
   "metadata": {},
   "outputs": [
    {
     "data": {
      "text/plain": [
       "Tom Cruise         60\n",
       "Chris Hemsworth    39\n",
       "Chris Pine         42\n",
       "Chris Pratt        43\n",
       "Name: actors, dtype: int64"
      ]
     },
     "execution_count": 16,
     "metadata": {},
     "output_type": "execute_result"
    }
   ],
   "source": [
    "actors"
   ]
  },
  {
   "cell_type": "code",
   "execution_count": 10,
   "id": "c6b96258",
   "metadata": {},
   "outputs": [
    {
     "data": {
      "text/plain": [
       "[('Tom Cruise', 60),\n",
       " ('Chris Hemsworth', 39),\n",
       " ('Chris Pine', 42),\n",
       " ('Chris Pratt', 43)]"
      ]
     },
     "execution_count": 10,
     "metadata": {},
     "output_type": "execute_result"
    }
   ],
   "source": [
    "list(zip(actor_names, actor_ages))"
   ]
  },
  {
   "cell_type": "code",
   "execution_count": 11,
   "id": "c6e2b9c8",
   "metadata": {},
   "outputs": [
    {
     "data": {
      "text/plain": [
       "{'Tom Cruise': 60, 'Chris Hemsworth': 39, 'Chris Pine': 42, 'Chris Pratt': 43}"
      ]
     },
     "execution_count": 11,
     "metadata": {},
     "output_type": "execute_result"
    }
   ],
   "source": [
    "res = {}\n",
    "for x in list(zip(actor_names, actor_ages)):\n",
    "    res[x[0]] = x[1]\n",
    "\n",
    "res"
   ]
  },
  {
   "cell_type": "code",
   "execution_count": 12,
   "id": "6b018e15",
   "metadata": {},
   "outputs": [],
   "source": [
    "actors_dict = pd.Series(res)"
   ]
  },
  {
   "cell_type": "code",
   "execution_count": 13,
   "id": "dac2feb7",
   "metadata": {},
   "outputs": [
    {
     "data": {
      "text/plain": [
       "Tom Cruise         60\n",
       "Chris Hemsworth    39\n",
       "Chris Pine         42\n",
       "Chris Pratt        43\n",
       "dtype: int64"
      ]
     },
     "execution_count": 13,
     "metadata": {},
     "output_type": "execute_result"
    }
   ],
   "source": [
    "actors_dict"
   ]
  },
  {
   "cell_type": "code",
   "execution_count": 18,
   "id": "193e8a81",
   "metadata": {},
   "outputs": [
    {
     "data": {
      "text/plain": [
       "Tom Cruise         60\n",
       "Chris Hemsworth    39\n",
       "Chris Pine         42\n",
       "Chris Pratt        43\n",
       "dtype: int64"
      ]
     },
     "execution_count": 18,
     "metadata": {},
     "output_type": "execute_result"
    }
   ],
   "source": [
    "pd.Series({name:age for name, age in zip(actor_names, actor_ages)})"
   ]
  },
  {
   "cell_type": "code",
   "execution_count": null,
   "id": "d8bdf183",
   "metadata": {},
   "outputs": [],
   "source": []
  }
 ],
 "metadata": {
  "kernelspec": {
   "display_name": "Python 3 (ipykernel)",
   "language": "python",
   "name": "python3"
  },
  "language_info": {
   "codemirror_mode": {
    "name": "ipython",
    "version": 3
   },
   "file_extension": ".py",
   "mimetype": "text/x-python",
   "name": "python",
   "nbconvert_exporter": "python",
   "pygments_lexer": "ipython3",
   "version": "3.10.8"
  }
 },
 "nbformat": 4,
 "nbformat_minor": 5
}
