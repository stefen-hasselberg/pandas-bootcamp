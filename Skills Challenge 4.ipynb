{
 "cells": [
  {
   "cell_type": "markdown",
   "id": "03094eee",
   "metadata": {},
   "source": [
    "# Skill Challenge\n",
    "\n",
    "1. Read the drinks.csv dataset again, this time bringin in the beer_servings sequence into a new series with country again actings as the index. Assign the Series to the variables beers\n",
    "2. Calculate the mean, medium and standard deviation of the beer servings in beers.  Is the distribution right or left skewed\n",
    "3.Slice the first 10 Countries from beers. Are these relatively large or small relative to the rest of the smaple\n",
    "BONUS:  to answer that we could complare each value to the mean or median. An even better approach would be to calculate standard scores or z-scores as they are known\n",
    "4. Create a new series that uses series arithmetics to calculate the z-scores for each serving by substracting for each the mean and dividing the difference by the standard deviation. Point the variable z_scores to this series\n",
    "Which country has the largest absolute z-scores.. is this positive or negative deviation"
   ]
  },
  {
   "cell_type": "code",
   "execution_count": 6,
   "id": "da4f4bbc",
   "metadata": {},
   "outputs": [],
   "source": [
    "import pandas as pd\n",
    "import numpy as np"
   ]
  },
  {
   "cell_type": "code",
   "execution_count": 21,
   "id": "9e7b84b6",
   "metadata": {},
   "outputs": [],
   "source": [
    "# Question 1\n",
    "data_url = \"./data/drinks.csv\"\n",
    "beers = pd.read_csv(data_url, usecols=[\"country\", \"beer_servings\"], index_col=\"country\").squeeze(\"columns\").copy()"
   ]
  },
  {
   "cell_type": "code",
   "execution_count": 22,
   "id": "9e70dd43",
   "metadata": {},
   "outputs": [
    {
     "data": {
      "text/plain": [
       "country\n",
       "Afghanistan      NaN\n",
       "Albania         89.0\n",
       "Algeria         25.0\n",
       "Andorra        245.0\n",
       "Angola         217.0\n",
       "               ...  \n",
       "Venezuela      333.0\n",
       "Vietnam        111.0\n",
       "Yemen            6.0\n",
       "Zambia          32.0\n",
       "Zimbabwe        64.0\n",
       "Name: beer_servings, Length: 193, dtype: float64"
      ]
     },
     "execution_count": 22,
     "metadata": {},
     "output_type": "execute_result"
    }
   ],
   "source": [
    "beers"
   ]
  },
  {
   "cell_type": "code",
   "execution_count": 11,
   "id": "204c2a89",
   "metadata": {},
   "outputs": [
    {
     "data": {
      "text/plain": [
       "count    178.000000\n",
       "mean     102.870787\n",
       "std      100.645713\n",
       "min        1.000000\n",
       "25%       21.000000\n",
       "50%       60.000000\n",
       "75%      172.500000\n",
       "max      376.000000\n",
       "Name: beer_servings, dtype: float64"
      ]
     },
     "execution_count": 11,
     "metadata": {},
     "output_type": "execute_result"
    }
   ],
   "source": [
    "beers.describe()"
   ]
  },
  {
   "cell_type": "code",
   "execution_count": 23,
   "id": "07710d7e",
   "metadata": {},
   "outputs": [
    {
     "data": {
      "text/plain": [
       "102.87078651685393"
      ]
     },
     "execution_count": 23,
     "metadata": {},
     "output_type": "execute_result"
    }
   ],
   "source": [
    "beers.mean()"
   ]
  },
  {
   "cell_type": "code",
   "execution_count": 24,
   "id": "a8a30bbe",
   "metadata": {},
   "outputs": [
    {
     "data": {
      "text/plain": [
       "60.0"
      ]
     },
     "execution_count": 24,
     "metadata": {},
     "output_type": "execute_result"
    }
   ],
   "source": [
    "beers.median()"
   ]
  },
  {
   "cell_type": "code",
   "execution_count": 25,
   "id": "6c9dd330",
   "metadata": {},
   "outputs": [
    {
     "data": {
      "text/plain": [
       "100.64571267934778"
      ]
     },
     "execution_count": 25,
     "metadata": {},
     "output_type": "execute_result"
    }
   ],
   "source": [
    "beers.std()"
   ]
  },
  {
   "cell_type": "code",
   "execution_count": 28,
   "id": "0bad87f4",
   "metadata": {},
   "outputs": [
    {
     "data": {
      "text/plain": [
       "country\n",
       "Afghanistan            NaN\n",
       "Albania               89.0\n",
       "Algeria               25.0\n",
       "Andorra              245.0\n",
       "Angola               217.0\n",
       "Antigua & Barbuda     12.0\n",
       "Argentina            193.0\n",
       "Armenia               21.0\n",
       "Australia            261.0\n",
       "Austria              279.0\n",
       "Name: beer_servings, dtype: float64"
      ]
     },
     "execution_count": 28,
     "metadata": {},
     "output_type": "execute_result"
    }
   ],
   "source": [
    "beers.iloc[:10]"
   ]
  },
  {
   "cell_type": "code",
   "execution_count": 29,
   "id": "0b04d14b",
   "metadata": {},
   "outputs": [
    {
     "data": {
      "text/plain": [
       "country\n",
       "Afghanistan                 NaN\n",
       "Albania              -13.870787\n",
       "Algeria              -77.870787\n",
       "Andorra              142.129213\n",
       "Angola               114.129213\n",
       "Antigua & Barbuda    -90.870787\n",
       "Argentina             90.129213\n",
       "Armenia              -81.870787\n",
       "Australia            158.129213\n",
       "Austria              176.129213\n",
       "Name: beer_servings, dtype: float64"
      ]
     },
     "execution_count": 29,
     "metadata": {},
     "output_type": "execute_result"
    }
   ],
   "source": [
    "beers.iloc[:10] - beers.mean()"
   ]
  },
  {
   "cell_type": "code",
   "execution_count": 30,
   "id": "b23d38ef",
   "metadata": {},
   "outputs": [
    {
     "data": {
      "text/plain": [
       "country\n",
       "Afghanistan          high\n",
       "Albania               low\n",
       "Algeria               low\n",
       "Andorra              high\n",
       "Angola               high\n",
       "Antigua & Barbuda     low\n",
       "Argentina            high\n",
       "Armenia               low\n",
       "Australia            high\n",
       "Austria              high\n",
       "Name: beer_servings, dtype: object"
      ]
     },
     "execution_count": 30,
     "metadata": {},
     "output_type": "execute_result"
    }
   ],
   "source": [
    "(beers.iloc[:10] - beers.mean()).map(lambda x: 'low' if x < 0 else 'high')"
   ]
  },
  {
   "cell_type": "code",
   "execution_count": 32,
   "id": "7f51a6db",
   "metadata": {},
   "outputs": [
    {
     "data": {
      "text/plain": [
       "low     112\n",
       "high     81\n",
       "Name: beer_servings, dtype: int64"
      ]
     },
     "execution_count": 32,
     "metadata": {},
     "output_type": "execute_result"
    }
   ],
   "source": [
    "(beers - beers.mean()).map(lambda x: 'low' if x < 0 else 'high').value_counts()"
   ]
  },
  {
   "cell_type": "code",
   "execution_count": 34,
   "id": "94851029",
   "metadata": {},
   "outputs": [
    {
     "data": {
      "text/plain": [
       "country\n",
       "Afghanistan         NaN\n",
       "Albania       -0.137818\n",
       "Algeria       -0.773712\n",
       "Andorra        1.412174\n",
       "Angola         1.133970\n",
       "                 ...   \n",
       "Venezuela      2.286528\n",
       "Vietnam        0.080771\n",
       "Yemen         -0.962493\n",
       "Zambia        -0.704161\n",
       "Zimbabwe      -0.386214\n",
       "Name: beer_servings, Length: 193, dtype: float64"
      ]
     },
     "execution_count": 34,
     "metadata": {},
     "output_type": "execute_result"
    }
   ],
   "source": [
    "# z-score  = item - mean divide by standard deviation eg  (10<value> - 0<mean>) / 5 <standard deviation> \n",
    "z_score = (beers - beers.mean()) / beers.std()\n",
    "z_score"
   ]
  },
  {
   "cell_type": "code",
   "execution_count": 35,
   "id": "e227549a",
   "metadata": {},
   "outputs": [
    {
     "data": {
      "text/plain": [
       "-1.012172141315241"
      ]
     },
     "execution_count": 35,
     "metadata": {},
     "output_type": "execute_result"
    }
   ],
   "source": [
    "z_score.min()"
   ]
  },
  {
   "cell_type": "code",
   "execution_count": 36,
   "id": "75ac0d1b",
   "metadata": {},
   "outputs": [
    {
     "data": {
      "text/plain": [
       "2.7137689844109123"
      ]
     },
     "execution_count": 36,
     "metadata": {},
     "output_type": "execute_result"
    }
   ],
   "source": [
    "z_score.max()"
   ]
  },
  {
   "cell_type": "code",
   "execution_count": 37,
   "id": "134c6cd5",
   "metadata": {},
   "outputs": [
    {
     "data": {
      "text/plain": [
       "2.7137689844109123"
      ]
     },
     "execution_count": 37,
     "metadata": {},
     "output_type": "execute_result"
    }
   ],
   "source": [
    "z_score.abs().max()"
   ]
  },
  {
   "cell_type": "code",
   "execution_count": null,
   "id": "893fffbc",
   "metadata": {},
   "outputs": [],
   "source": []
  }
 ],
 "metadata": {
  "kernelspec": {
   "display_name": "Python 3 (ipykernel)",
   "language": "python",
   "name": "python3"
  },
  "language_info": {
   "codemirror_mode": {
    "name": "ipython",
    "version": 3
   },
   "file_extension": ".py",
   "mimetype": "text/x-python",
   "name": "python",
   "nbconvert_exporter": "python",
   "pygments_lexer": "ipython3",
   "version": "3.10.8"
  }
 },
 "nbformat": 4,
 "nbformat_minor": 5
}
