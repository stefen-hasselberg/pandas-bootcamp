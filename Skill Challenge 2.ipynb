{
 "cells": [
  {
   "cell_type": "markdown",
   "id": "c30d08be",
   "metadata": {},
   "source": [
    "# Skill Challenge\n",
    "\n",
    "1. Create a series of length 100 containing the square integers from 0 to 99. Assign it to the variables squares\n",
    "2. Extract the last three items from the squares series using square bracket indeding\n",
    "3. Extract the last three items from the squares series using tail\n",
    "4. verify that the output of the step2 and 3 is the same using the equals method"
   ]
  },
  {
   "cell_type": "code",
   "execution_count": null,
   "id": "d5e94976",
   "metadata": {},
   "outputs": [],
   "source": [
    "import pandas as pd"
   ]
  },
  {
   "cell_type": "code",
   "execution_count": 5,
   "id": "ad661988",
   "metadata": {},
   "outputs": [],
   "source": [
    "squares = pd.Series(data=[i**2 for i in range(100)])"
   ]
  },
  {
   "cell_type": "code",
   "execution_count": 9,
   "id": "2ced986b",
   "metadata": {},
   "outputs": [
    {
     "data": {
      "text/plain": [
       "97    9409\n",
       "98    9604\n",
       "99    9801\n",
       "dtype: int64"
      ]
     },
     "execution_count": 9,
     "metadata": {},
     "output_type": "execute_result"
    }
   ],
   "source": [
    "squares.iloc[-3:]"
   ]
  },
  {
   "cell_type": "code",
   "execution_count": 7,
   "id": "4b4efe52",
   "metadata": {},
   "outputs": [
    {
     "data": {
      "text/plain": [
       "97    9409\n",
       "98    9604\n",
       "99    9801\n",
       "dtype: int64"
      ]
     },
     "execution_count": 7,
     "metadata": {},
     "output_type": "execute_result"
    }
   ],
   "source": [
    "squares.tail(3)"
   ]
  },
  {
   "cell_type": "code",
   "execution_count": 8,
   "id": "bbed6ab7",
   "metadata": {},
   "outputs": [
    {
     "data": {
      "text/plain": [
       "True"
      ]
     },
     "execution_count": 8,
     "metadata": {},
     "output_type": "execute_result"
    }
   ],
   "source": [
    "squares[-3:].equals(squares.tail(3))"
   ]
  },
  {
   "cell_type": "code",
   "execution_count": null,
   "id": "0d532749",
   "metadata": {},
   "outputs": [],
   "source": []
  }
 ],
 "metadata": {
  "kernelspec": {
   "display_name": "Python 3 (ipykernel)",
   "language": "python",
   "name": "python3"
  },
  "language_info": {
   "codemirror_mode": {
    "name": "ipython",
    "version": 3
   },
   "file_extension": ".py",
   "mimetype": "text/x-python",
   "name": "python",
   "nbconvert_exporter": "python",
   "pygments_lexer": "ipython3",
   "version": "3.10.8"
  }
 },
 "nbformat": 4,
 "nbformat_minor": 5
}
