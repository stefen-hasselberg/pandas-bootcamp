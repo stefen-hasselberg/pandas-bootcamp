{
 "cells": [
  {
   "cell_type": "code",
   "execution_count": null,
   "id": "5b57c2bf",
   "metadata": {},
   "outputs": [],
   "source": [
    "import pandas as pd\n",
    "import numpy as np"
   ]
  },
  {
   "cell_type": "markdown",
   "id": "f8796fc8",
   "metadata": {},
   "source": [
    "## Reading in Data with read_csv()"
   ]
  },
  {
   "cell_type": "code",
   "execution_count": null,
   "id": "496e5428",
   "metadata": {},
   "outputs": [],
   "source": [
    "# need to squeeze then copy the data otherwise this is just a view over top the raw data\n",
    "alcohol = pd.read_csv(\"./data/drinks.csv\", usecols=[\"country\", \"wine_servings\"], index_col=\"country\").squeeze(\"columns\").copy()"
   ]
  },
  {
   "cell_type": "code",
   "execution_count": null,
   "id": "f51d94ab",
   "metadata": {},
   "outputs": [],
   "source": [
    "alcohol.head()"
   ]
  },
  {
   "cell_type": "code",
   "execution_count": null,
   "id": "31b264d6",
   "metadata": {},
   "outputs": [],
   "source": [
    "type(alcohol)"
   ]
  },
  {
   "cell_type": "markdown",
   "id": "4d707e0c",
   "metadata": {},
   "source": [
    "### Series Sizing with size, shape and len()"
   ]
  },
  {
   "cell_type": "code",
   "execution_count": null,
   "id": "b9e9d7eb",
   "metadata": {},
   "outputs": [],
   "source": [
    "alcohol.size"
   ]
  },
  {
   "cell_type": "code",
   "execution_count": null,
   "id": "7248bae8",
   "metadata": {},
   "outputs": [],
   "source": [
    "alcohol.shape"
   ]
  },
  {
   "cell_type": "code",
   "execution_count": null,
   "id": "9f68c651",
   "metadata": {},
   "outputs": [],
   "source": [
    "# get just the values\n",
    "alcohol.values"
   ]
  },
  {
   "cell_type": "code",
   "execution_count": null,
   "id": "7ef829f5",
   "metadata": {},
   "outputs": [],
   "source": [
    "# get just the labels\n",
    "alcohol.index"
   ]
  },
  {
   "cell_type": "code",
   "execution_count": null,
   "id": "7cedb923",
   "metadata": {},
   "outputs": [],
   "source": [
    "alcohol.shape"
   ]
  },
  {
   "cell_type": "markdown",
   "id": "16c8b037",
   "metadata": {},
   "source": [
    "### Unique Values and Series Monotonicity"
   ]
  },
  {
   "cell_type": "code",
   "execution_count": null,
   "id": "f73cba51",
   "metadata": {},
   "outputs": [],
   "source": [
    "alcohol.is_unique"
   ]
  },
  {
   "cell_type": "code",
   "execution_count": null,
   "id": "4af948f0",
   "metadata": {},
   "outputs": [],
   "source": [
    "alcohol.head().is_unique"
   ]
  },
  {
   "cell_type": "code",
   "execution_count": null,
   "id": "811ced03",
   "metadata": {},
   "outputs": [],
   "source": [
    "# get a count of unique values including NAs\n",
    "alcohol.nunique(dropna=False)"
   ]
  },
  {
   "cell_type": "code",
   "execution_count": null,
   "id": "91c6660c",
   "metadata": {},
   "outputs": [],
   "source": [
    "#monotonicity order theory\n",
    "pd.Series([1,2,3,3,3,4,2,1]).is_monotonic_increasing"
   ]
  },
  {
   "cell_type": "markdown",
   "id": "09b97685",
   "metadata": {},
   "source": [
    "### Count() Method"
   ]
  },
  {
   "cell_type": "code",
   "execution_count": null,
   "id": "f1f23a7a",
   "metadata": {},
   "outputs": [],
   "source": [
    "# count the number of items excluding an None or NA\n",
    "alcohol.count()"
   ]
  },
  {
   "cell_type": "code",
   "execution_count": null,
   "id": "00b406f8",
   "metadata": {},
   "outputs": [],
   "source": [
    "# check to see if there is any nans in the data\n",
    "alcohol.hasnans"
   ]
  },
  {
   "cell_type": "markdown",
   "id": "b1203f85",
   "metadata": {},
   "source": [
    "### Accessing and Counting NA's"
   ]
  },
  {
   "cell_type": "code",
   "execution_count": null,
   "id": "2169f3ef",
   "metadata": {},
   "outputs": [],
   "source": [
    "alcohol.size"
   ]
  },
  {
   "cell_type": "code",
   "execution_count": null,
   "id": "8a179299",
   "metadata": {},
   "outputs": [],
   "source": [
    "alcohol.count()"
   ]
  },
  {
   "cell_type": "code",
   "execution_count": null,
   "id": "6e791b07",
   "metadata": {},
   "outputs": [],
   "source": [
    "alcohol.isnull()"
   ]
  },
  {
   "cell_type": "code",
   "execution_count": null,
   "id": "cff7031c",
   "metadata": {},
   "outputs": [],
   "source": [
    "# alcohol.loc[alcohol.isnull()].index.size\n",
    "alcohol.isnull().sum()"
   ]
  },
  {
   "cell_type": "code",
   "execution_count": null,
   "id": "bca83b06",
   "metadata": {},
   "outputs": [],
   "source": [
    "all = alcohol.size"
   ]
  },
  {
   "cell_type": "code",
   "execution_count": null,
   "id": "8ed5f963",
   "metadata": {},
   "outputs": [],
   "source": [
    "nonnulls = alcohol.count()"
   ]
  },
  {
   "cell_type": "code",
   "execution_count": null,
   "id": "cc8edeab",
   "metadata": {},
   "outputs": [],
   "source": [
    "nulls = alcohol.isnull().sum()"
   ]
  },
  {
   "cell_type": "code",
   "execution_count": null,
   "id": "63ccaf12",
   "metadata": {},
   "outputs": [],
   "source": [
    "all == nonnulls + nulls\n"
   ]
  },
  {
   "cell_type": "markdown",
   "id": "f8c0c3a8",
   "metadata": {},
   "source": [
    "### Bonus approach"
   ]
  },
  {
   "cell_type": "code",
   "execution_count": null,
   "id": "1b76d6b9",
   "metadata": {},
   "outputs": [],
   "source": [
    "#unfunc -> universal function"
   ]
  },
  {
   "cell_type": "code",
   "execution_count": null,
   "id": "09660ac3",
   "metadata": {},
   "outputs": [],
   "source": [
    "ser = pd.Series([True, False, None, 21, ], dtype=float)"
   ]
  },
  {
   "cell_type": "code",
   "execution_count": null,
   "id": "c9bbc56b",
   "metadata": {},
   "outputs": [],
   "source": [
    "np.isnan(ser)"
   ]
  },
  {
   "cell_type": "code",
   "execution_count": null,
   "id": "c9c74c81",
   "metadata": {},
   "outputs": [],
   "source": [
    "ser"
   ]
  },
  {
   "cell_type": "code",
   "execution_count": null,
   "id": "6881af26",
   "metadata": {},
   "outputs": [],
   "source": [
    "alcohol.loc[np.isnan]"
   ]
  },
  {
   "cell_type": "code",
   "execution_count": null,
   "id": "8f096989",
   "metadata": {},
   "outputs": [],
   "source": [
    "alcohol.loc[np.isnan].size"
   ]
  },
  {
   "cell_type": "markdown",
   "id": "6fe9fd97",
   "metadata": {},
   "source": [
    "### The Other size: nonull() and notna()"
   ]
  },
  {
   "cell_type": "code",
   "execution_count": null,
   "id": "7c3a66fd",
   "metadata": {},
   "outputs": [],
   "source": [
    "alcohol.notnull()"
   ]
  },
  {
   "cell_type": "code",
   "execution_count": null,
   "id": "c73a37cb",
   "metadata": {},
   "outputs": [],
   "source": [
    "alcohol.loc[alcohol.notnull()]"
   ]
  },
  {
   "cell_type": "code",
   "execution_count": null,
   "id": "a865c906",
   "metadata": {},
   "outputs": [],
   "source": [
    "alcohol.notnull().sum()"
   ]
  },
  {
   "cell_type": "markdown",
   "id": "e5a3718f",
   "metadata": {},
   "source": [
    "### Dropping and Filling NAs"
   ]
  },
  {
   "cell_type": "code",
   "execution_count": 94,
   "id": "996c1cfd",
   "metadata": {},
   "outputs": [
    {
     "data": {
      "text/plain": [
       "country\n",
       "Albania               54.0\n",
       "Algeria               14.0\n",
       "Andorra              312.0\n",
       "Angola                45.0\n",
       "Antigua & Barbuda     45.0\n",
       "                     ...  \n",
       "Vanuatu               11.0\n",
       "Venezuela              3.0\n",
       "Vietnam                1.0\n",
       "Zambia                 4.0\n",
       "Zimbabwe               4.0\n",
       "Name: wine_servings, Length: 162, dtype: float64"
      ]
     },
     "execution_count": 94,
     "metadata": {},
     "output_type": "execute_result"
    }
   ],
   "source": [
    "alcohol.dropna()"
   ]
  },
  {
   "cell_type": "code",
   "execution_count": 95,
   "id": "22f4c589",
   "metadata": {},
   "outputs": [
    {
     "data": {
      "text/plain": [
       "country\n",
       "Afghanistan    100.0\n",
       "Albania         54.0\n",
       "Algeria         14.0\n",
       "Andorra        312.0\n",
       "Angola          45.0\n",
       "               ...  \n",
       "Venezuela        3.0\n",
       "Vietnam          1.0\n",
       "Yemen          100.0\n",
       "Zambia           4.0\n",
       "Zimbabwe         4.0\n",
       "Name: wine_servings, Length: 193, dtype: float64"
      ]
     },
     "execution_count": 95,
     "metadata": {},
     "output_type": "execute_result"
    }
   ],
   "source": [
    "alcohol.fillna(value=100, inplace=False)"
   ]
  },
  {
   "cell_type": "markdown",
   "id": "f892bb64",
   "metadata": {},
   "source": [
    "### Descripttive Statistices"
   ]
  },
  {
   "cell_type": "code",
   "execution_count": 96,
   "id": "9b53e0ca",
   "metadata": {},
   "outputs": [
    {
     "data": {
      "text/plain": [
       "8221.0"
      ]
     },
     "execution_count": 96,
     "metadata": {},
     "output_type": "execute_result"
    }
   ],
   "source": [
    "alcohol.sum()"
   ]
  },
  {
   "cell_type": "code",
   "execution_count": 98,
   "id": "262aa3d5",
   "metadata": {},
   "outputs": [
    {
     "data": {
      "text/plain": [
       "50.74691358024691"
      ]
     },
     "execution_count": 98,
     "metadata": {},
     "output_type": "execute_result"
    }
   ],
   "source": [
    "# get the average\n",
    "alcohol.mean()"
   ]
  },
  {
   "cell_type": "code",
   "execution_count": 99,
   "id": "9d29153d",
   "metadata": {},
   "outputs": [
    {
     "data": {
      "text/plain": [
       "11.5"
      ]
     },
     "execution_count": 99,
     "metadata": {},
     "output_type": "execute_result"
    }
   ],
   "source": [
    "alcohol.median()"
   ]
  },
  {
   "cell_type": "code",
   "execution_count": 100,
   "id": "4553b768",
   "metadata": {},
   "outputs": [
    {
     "data": {
      "text/plain": [
       "11.5"
      ]
     },
     "execution_count": 100,
     "metadata": {},
     "output_type": "execute_result"
    }
   ],
   "source": [
    "alcohol.quantile(q=.5)"
   ]
  },
  {
   "cell_type": "code",
   "execution_count": 103,
   "id": "3f89531a",
   "metadata": {},
   "outputs": [
    {
     "data": {
      "text/plain": [
       "58.25"
      ]
     },
     "execution_count": 103,
     "metadata": {},
     "output_type": "execute_result"
    }
   ],
   "source": [
    "# IQR\n",
    "iqr = alcohol.quantile(.75) - alcohol.quantile(.25)\n",
    "iqr"
   ]
  },
  {
   "cell_type": "code",
   "execution_count": 104,
   "id": "7851801a",
   "metadata": {},
   "outputs": [
    {
     "data": {
      "text/plain": [
       "1.0"
      ]
     },
     "execution_count": 104,
     "metadata": {},
     "output_type": "execute_result"
    }
   ],
   "source": [
    "#min and max\n",
    "alcohol.min()"
   ]
  },
  {
   "cell_type": "code",
   "execution_count": 105,
   "id": "d96435eb",
   "metadata": {},
   "outputs": [
    {
     "data": {
      "text/plain": [
       "339.0"
      ]
     },
     "execution_count": 105,
     "metadata": {},
     "output_type": "execute_result"
    }
   ],
   "source": [
    "alcohol.max()"
   ]
  },
  {
   "cell_type": "code",
   "execution_count": 106,
   "id": "32d115b5",
   "metadata": {},
   "outputs": [
    {
     "data": {
      "text/plain": [
       "76.13491716376173"
      ]
     },
     "execution_count": 106,
     "metadata": {},
     "output_type": "execute_result"
    }
   ],
   "source": [
    "# standard deviation\n",
    "alcohol.std()"
   ]
  },
  {
   "cell_type": "code",
   "execution_count": 107,
   "id": "e0cca234",
   "metadata": {},
   "outputs": [
    {
     "data": {
      "text/plain": [
       "5796.52561153286"
      ]
     },
     "execution_count": 107,
     "metadata": {},
     "output_type": "execute_result"
    }
   ],
   "source": [
    "# variances\n",
    "alcohol.var()"
   ]
  },
  {
   "cell_type": "markdown",
   "id": "bfbba0b8",
   "metadata": {},
   "source": [
    "### Describe() Method"
   ]
  },
  {
   "cell_type": "code",
   "execution_count": 108,
   "id": "de3f992e",
   "metadata": {},
   "outputs": [
    {
     "data": {
      "text/plain": [
       "count    162.000000\n",
       "mean      50.746914\n",
       "std       76.134917\n",
       "min        1.000000\n",
       "25%        3.000000\n",
       "50%       11.500000\n",
       "75%       61.250000\n",
       "max      339.000000\n",
       "Name: wine_servings, dtype: float64"
      ]
     },
     "execution_count": 108,
     "metadata": {},
     "output_type": "execute_result"
    }
   ],
   "source": [
    "alcohol.describe()"
   ]
  },
  {
   "cell_type": "code",
   "execution_count": 109,
   "id": "bf1eca89",
   "metadata": {},
   "outputs": [
    {
     "data": {
      "text/plain": [
       "count    162.000000\n",
       "mean      50.746914\n",
       "std       76.134917\n",
       "min        1.000000\n",
       "19%        2.000000\n",
       "50%       11.500000\n",
       "79%       81.570000\n",
       "max      339.000000\n",
       "Name: wine_servings, dtype: float64"
      ]
     },
     "execution_count": 109,
     "metadata": {},
     "output_type": "execute_result"
    }
   ],
   "source": [
    "alcohol.describe(percentiles=[.79,.19])"
   ]
  },
  {
   "cell_type": "code",
   "execution_count": 110,
   "id": "82efaee8",
   "metadata": {},
   "outputs": [
    {
     "data": {
      "text/plain": [
       "count    162.000000\n",
       "mean      50.746914\n",
       "std       76.134917\n",
       "min        1.000000\n",
       "25%        3.000000\n",
       "50%       11.500000\n",
       "75%       61.250000\n",
       "max      339.000000\n",
       "Name: wine_servings, dtype: float64"
      ]
     },
     "execution_count": 110,
     "metadata": {},
     "output_type": "execute_result"
    }
   ],
   "source": [
    "# filter data by type\n",
    "alcohol.describe(include=float, exclude=object)"
   ]
  },
  {
   "cell_type": "markdown",
   "id": "5068171e",
   "metadata": {},
   "source": [
    "### mode() and value_count()\n",
    "\n",
    "mode = get the most common item"
   ]
  },
  {
   "cell_type": "code",
   "execution_count": 111,
   "id": "9480454f",
   "metadata": {},
   "outputs": [
    {
     "data": {
      "text/plain": [
       "0    1.0\n",
       "Name: wine_servings, dtype: float64"
      ]
     },
     "execution_count": 111,
     "metadata": {},
     "output_type": "execute_result"
    }
   ],
   "source": [
    "alcohol.mode()"
   ]
  },
  {
   "cell_type": "code",
   "execution_count": 112,
   "id": "aba8b9bb",
   "metadata": {},
   "outputs": [
    {
     "data": {
      "text/plain": [
       "country\n",
       "Afghanistan    False\n",
       "Albania        False\n",
       "Algeria        False\n",
       "Andorra        False\n",
       "Angola         False\n",
       "               ...  \n",
       "Venezuela      False\n",
       "Vietnam         True\n",
       "Yemen          False\n",
       "Zambia         False\n",
       "Zimbabwe       False\n",
       "Name: wine_servings, Length: 193, dtype: bool"
      ]
     },
     "execution_count": 112,
     "metadata": {},
     "output_type": "execute_result"
    }
   ],
   "source": [
    "alcohol == 1"
   ]
  },
  {
   "cell_type": "code",
   "execution_count": 115,
   "id": "1e7fb904",
   "metadata": {},
   "outputs": [
    {
     "data": {
      "text/plain": [
       "28"
      ]
     },
     "execution_count": 115,
     "metadata": {},
     "output_type": "execute_result"
    }
   ],
   "source": [
    "alcohol[alcohol == 1].size"
   ]
  },
  {
   "cell_type": "code",
   "execution_count": 117,
   "id": "8f22746e",
   "metadata": {},
   "outputs": [
    {
     "data": {
      "text/plain": [
       "1.0      28\n",
       "2.0      10\n",
       "7.0       9\n",
       "8.0       7\n",
       "5.0       6\n",
       "         ..\n",
       "218.0     1\n",
       "185.0     1\n",
       "78.0      1\n",
       "165.0     1\n",
       "22.0      1\n",
       "Name: wine_servings, Length: 71, dtype: int64"
      ]
     },
     "execution_count": 117,
     "metadata": {},
     "output_type": "execute_result"
    }
   ],
   "source": [
    "# value counts for each unique value\n",
    "alcohol.value_counts()"
   ]
  },
  {
   "cell_type": "markdown",
   "id": "e6909509",
   "metadata": {},
   "source": [
    "### idxmax() and idxmin()"
   ]
  },
  {
   "cell_type": "code",
   "execution_count": 118,
   "id": "4f249ad8",
   "metadata": {},
   "outputs": [
    {
     "data": {
      "text/plain": [
       "339.0"
      ]
     },
     "execution_count": 118,
     "metadata": {},
     "output_type": "execute_result"
    }
   ],
   "source": [
    "alcohol.max()"
   ]
  },
  {
   "cell_type": "code",
   "execution_count": 119,
   "id": "97fc839d",
   "metadata": {},
   "outputs": [
    {
     "data": {
      "text/plain": [
       "country\n",
       "Portugal    339.0\n",
       "Name: wine_servings, dtype: float64"
      ]
     },
     "execution_count": 119,
     "metadata": {},
     "output_type": "execute_result"
    }
   ],
   "source": [
    "alcohol[alcohol == alcohol.max()]"
   ]
  },
  {
   "cell_type": "code",
   "execution_count": 122,
   "id": "34428b59",
   "metadata": {},
   "outputs": [
    {
     "data": {
      "text/plain": [
       "'Portugal'"
      ]
     },
     "execution_count": 122,
     "metadata": {},
     "output_type": "execute_result"
    }
   ],
   "source": [
    "alcohol.idxmax()"
   ]
  },
  {
   "cell_type": "code",
   "execution_count": 123,
   "id": "a774c935",
   "metadata": {},
   "outputs": [
    {
     "data": {
      "text/plain": [
       "'Brunei'"
      ]
     },
     "execution_count": 123,
     "metadata": {},
     "output_type": "execute_result"
    }
   ],
   "source": [
    "alcohol.idxmin()"
   ]
  },
  {
   "cell_type": "markdown",
   "id": "de00d6b7",
   "metadata": {},
   "source": [
    "### Sorting with sort_values()\n"
   ]
  },
  {
   "cell_type": "code",
   "execution_count": 131,
   "id": "6bf02f2b",
   "metadata": {},
   "outputs": [
    {
     "data": {
      "text/plain": [
       "country\n",
       "Portugal      339.0\n",
       "Andorra       312.0\n",
       "Denmark       278.0\n",
       "Slovenia      276.0\n",
       "Luxembourg    271.0\n",
       "              ...  \n",
       "Sri Lanka       NaN\n",
       "Sudan           NaN\n",
       "Tajikistan      NaN\n",
       "Uganda          NaN\n",
       "Yemen           NaN\n",
       "Name: wine_servings, Length: 193, dtype: float64"
      ]
     },
     "execution_count": 131,
     "metadata": {},
     "output_type": "execute_result"
    }
   ],
   "source": [
    "alcohol.sort_values(ascending=False,na_position='last',  kind=\"quick\")"
   ]
  },
  {
   "cell_type": "code",
   "execution_count": 132,
   "id": "1fad6ae6",
   "metadata": {},
   "outputs": [
    {
     "data": {
      "text/plain": [
       "country\n",
       "Afghanistan      NaN\n",
       "Albania         54.0\n",
       "Algeria         14.0\n",
       "Andorra        312.0\n",
       "Angola          45.0\n",
       "               ...  \n",
       "Venezuela        3.0\n",
       "Vietnam          1.0\n",
       "Yemen            NaN\n",
       "Zambia           4.0\n",
       "Zimbabwe         4.0\n",
       "Name: wine_servings, Length: 193, dtype: float64"
      ]
     },
     "execution_count": 132,
     "metadata": {},
     "output_type": "execute_result"
    }
   ],
   "source": [
    "alcohol"
   ]
  },
  {
   "cell_type": "markdown",
   "id": "64ae5b04",
   "metadata": {},
   "source": [
    "### nlargest() and nsmallest()\n"
   ]
  },
  {
   "cell_type": "code",
   "execution_count": 133,
   "id": "2600ea79",
   "metadata": {},
   "outputs": [
    {
     "data": {
      "text/plain": [
       "1.0"
      ]
     },
     "execution_count": 133,
     "metadata": {},
     "output_type": "execute_result"
    }
   ],
   "source": [
    "alcohol.min()"
   ]
  },
  {
   "cell_type": "code",
   "execution_count": 134,
   "id": "07f923ec",
   "metadata": {},
   "outputs": [
    {
     "data": {
      "text/plain": [
       "339.0"
      ]
     },
     "execution_count": 134,
     "metadata": {},
     "output_type": "execute_result"
    }
   ],
   "source": [
    "alcohol.max()"
   ]
  },
  {
   "cell_type": "code",
   "execution_count": 137,
   "id": "8adaa2e5",
   "metadata": {},
   "outputs": [
    {
     "data": {
      "text/plain": [
       "country\n",
       "Portugal      339.0\n",
       "Andorra       312.0\n",
       "Denmark       278.0\n",
       "Slovenia      276.0\n",
       "Luxembourg    271.0\n",
       "Name: wine_servings, dtype: float64"
      ]
     },
     "execution_count": 137,
     "metadata": {},
     "output_type": "execute_result"
    }
   ],
   "source": [
    "# return back list of largest numbers\n",
    "alcohol.nlargest()"
   ]
  },
  {
   "cell_type": "code",
   "execution_count": 136,
   "id": "92b0ef3d",
   "metadata": {},
   "outputs": [
    {
     "data": {
      "text/plain": [
       "country\n",
       "Brunei                      1.0\n",
       "Cambodia                    1.0\n",
       "Canada                      1.0\n",
       "Central African Republic    1.0\n",
       "Chad                        1.0\n",
       "Name: wine_servings, dtype: float64"
      ]
     },
     "execution_count": 136,
     "metadata": {},
     "output_type": "execute_result"
    }
   ],
   "source": [
    "alcohol.nsmallest()"
   ]
  },
  {
   "cell_type": "code",
   "execution_count": null,
   "id": "a2232f96",
   "metadata": {},
   "outputs": [],
   "source": []
  }
 ],
 "metadata": {
  "kernelspec": {
   "display_name": "Python 3 (ipykernel)",
   "language": "python",
   "name": "python3"
  },
  "language_info": {
   "codemirror_mode": {
    "name": "ipython",
    "version": 3
   },
   "file_extension": ".py",
   "mimetype": "text/x-python",
   "name": "python",
   "nbconvert_exporter": "python",
   "pygments_lexer": "ipython3",
   "version": "3.10.8"
  }
 },
 "nbformat": 4,
 "nbformat_minor": 5
}
